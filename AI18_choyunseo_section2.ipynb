{
  "nbformat": 4,
  "nbformat_minor": 0,
  "metadata": {
    "colab": {
      "provenance": [],
      "authorship_tag": "ABX9TyNqFJMRRC5dR5vrBZAHAhDm",
      "include_colab_link": true
    },
    "kernelspec": {
      "name": "python3",
      "display_name": "Python 3"
    },
    "language_info": {
      "name": "python"
    },
    "gpuClass": "standard"
  },
  "cells": [
    {
      "cell_type": "markdown",
      "metadata": {
        "id": "view-in-github",
        "colab_type": "text"
      },
      "source": [
        "<a href=\"https://colab.research.google.com/github/chobbong/AI18_ChoYunSeo_Section2/blob/main/AI18_choyunseo_section2.ipynb\" target=\"_parent\"><img src=\"https://colab.research.google.com/assets/colab-badge.svg\" alt=\"Open In Colab\"/></a>"
      ]
    },
    {
      "cell_type": "code",
      "source": [
        "import pandas as pd\n",
        "import pandas_datareader.data as pdr\n",
        "import yfinance as yf\n",
        "import datetime\n",
        "import torch\n",
        "import torch.nn as nn\n",
        "from torch.utils.data import Dataset, DataLoader\n",
        "import torch.optim as optim\n",
        "import numpy as np\n",
        "import argparse\n",
        "from copy import deepcopy # Add Deepcopy for args\n",
        "from sklearn.metrics import mean_absolute_error\n",
        "\n",
        "import seaborn as sns \n",
        "import matplotlib.pyplot as plt\n",
        "\n",
        "print(torch.__version__)\n",
        "%matplotlib inline\n",
        "%pylab inline\n",
        "pylab.rcParams['figure.figsize'] = (15, 9)"
      ],
      "metadata": {
        "colab": {
          "base_uri": "https://localhost:8080/"
        },
        "id": "iOmBwbbBOXhx",
        "outputId": "7f4554bd-ad53-487a-97ea-465dfd9fe68f"
      },
      "execution_count": null,
      "outputs": [
        {
          "output_type": "stream",
          "name": "stdout",
          "text": [
            "2.0.0+cu118\n",
            "Populating the interactive namespace from numpy and matplotlib\n"
          ]
        }
      ]
    },
    {
      "cell_type": "code",
      "execution_count": null,
      "metadata": {
        "colab": {
          "base_uri": "https://localhost:8080/"
        },
        "id": "_nN6LzMPNxZH",
        "outputId": "cbde13bd-4d5d-471f-ee3f-4cedce007e5e"
      },
      "outputs": [
        {
          "output_type": "stream",
          "name": "stdout",
          "text": [
            "\r[*********************100%***********************]  1 of 1 completed\n",
            "                  Open        High         Low       Close   Adj Close  \\\n",
            "Date                                                                     \n",
            "2000-01-04   56.781250   58.562500   56.125000   56.312500   35.133274   \n",
            "2000-01-05   55.562500   58.187500   54.687500   56.906250   35.503719   \n",
            "2000-01-06   56.093750   56.937500   54.187500   55.000000   34.314404   \n",
            "2000-01-07   54.312500   56.125000   53.656250   55.718750   34.762833   \n",
            "2000-01-10   56.718750   56.843750   55.687500   56.125000   35.016289   \n",
            "...                ...         ...         ...         ...         ...   \n",
            "2023-04-04  287.230011  290.450012  285.670013  287.179993  287.179993   \n",
            "2023-04-05  285.850006  287.149994  282.920013  284.339996  284.339996   \n",
            "2023-04-06  283.209991  292.079987  282.029999  291.600006  291.600006   \n",
            "2023-04-10  289.209991  289.600006  284.709991  289.390015  289.390015   \n",
            "2023-04-11  285.750000  285.980011  281.640015  282.829987  282.829987   \n",
            "\n",
            "              Volume       SMA_5      SMA_20      SMA_60      MACD  \\\n",
            "Date                                                                 \n",
            "2000-01-04  54119000         NaN         NaN         NaN  0.000000   \n",
            "2000-01-05  64059600         NaN         NaN         NaN  0.047365   \n",
            "2000-01-06  54976600         NaN         NaN         NaN -0.068132   \n",
            "2000-01-07  62013600         NaN         NaN         NaN -0.100507   \n",
            "2000-01-10  44963600   56.012500         NaN         NaN -0.092320   \n",
            "...              ...         ...         ...         ...       ...   \n",
            "2023-04-04  25824300  285.453998  272.290002  257.890668  7.923587   \n",
            "2023-04-05  22064800  286.219995  273.822002  258.844334  7.701957   \n",
            "2023-04-06  29770300  287.729999  275.786002  259.890168  8.019689   \n",
            "2023-04-10  23103000  287.948004  277.826003  260.783835  8.000937   \n",
            "2023-04-11  27254900  287.067999  279.271503  261.522501  7.371759   \n",
            "\n",
            "            MACD_Signal  \n",
            "Date                     \n",
            "2000-01-04     0.000000  \n",
            "2000-01-05     0.009473  \n",
            "2000-01-06    -0.006048  \n",
            "2000-01-07    -0.024940  \n",
            "2000-01-10    -0.038416  \n",
            "...                 ...  \n",
            "2023-04-04     6.731802  \n",
            "2023-04-05     6.925833  \n",
            "2023-04-06     7.144604  \n",
            "2023-04-10     7.315871  \n",
            "2023-04-11     7.327048  \n",
            "\n",
            "[5854 rows x 11 columns]\n"
          ]
        }
      ],
      "source": [
        "import datetime\n",
        "import pandas as pd\n",
        "import yfinance as yfSliding\n",
        "from pandas_datareader import data as pdr\n",
        "\n",
        "def calculate_simple_moving_average(data, window_size):\n",
        "    sma = data['Close'].rolling(window=window_size).mean()\n",
        "    return sma\n",
        "\n",
        "def calculate_exponential_moving_average(data, window_size):\n",
        "    ema = data['Close'].ewm(span=window_size, adjust=False).mean()\n",
        "    return ema\n",
        "\n",
        "# MACD 값을 계산\n",
        "def calculate_macd(data): \n",
        "    ema_12 = calculate_exponential_moving_average(data, 12)\n",
        "    ema_26 = calculate_exponential_moving_average(data, 26)\n",
        "    macd = ema_12 - ema_26\n",
        "    return macd\n",
        "\n",
        "def calculate_macd_signal(data, macd):\n",
        "    macd_signal = macd.ewm(span=9, adjust=False).mean()\n",
        "    return macd_signal\n",
        "\n",
        "yf.pdr_override()\n",
        "\n",
        "start = (2000,1,4)\n",
        "start = datetime.datetime(*start)\n",
        "end = datetime.date.today()\n",
        "\n",
        "data = pdr.get_data_yahoo(\"MSFT\", start, end)\n",
        "\n",
        "# 5일, 20일, 60일 단순 이동 평균선을 계산합니다.\n",
        "sma_5 = calculate_simple_moving_average(data, 5)\n",
        "sma_20 = calculate_simple_moving_average(data, 20)\n",
        "sma_60 = calculate_simple_moving_average(data, 60)\n",
        "\n",
        "# 단순 이동 평균선 결과를 Pandas DataFrame에 추가합니다.\n",
        "data['SMA_5'] = sma_5\n",
        "data['SMA_20'] = sma_20\n",
        "data['SMA_60'] = sma_60\n",
        "\n",
        "# MACD와 신호선을 계산합니다.\n",
        "macd = calculate_macd(data)\n",
        "macd_signal = calculate_macd_signal(data, macd)\n",
        "\n",
        "# 결과를 Pandas DataFrame에 추가합니다.\n",
        "data['MACD'] = macd\n",
        "data['MACD_Signal'] = macd_signal\n",
        "\n",
        "data = pd.DataFrame(data)\n",
        "print(data)"
      ]
    },
    {
      "cell_type": "code",
      "source": [
        "data = data.dropna(axis=0)"
      ],
      "metadata": {
        "id": "Y3oQ6LK6OPbN"
      },
      "execution_count": null,
      "outputs": []
    },
    {
      "cell_type": "code",
      "source": [
        "data.tail()"
      ],
      "metadata": {
        "colab": {
          "base_uri": "https://localhost:8080/",
          "height": 238
        },
        "id": "GLiXO4y4f7ed",
        "outputId": "07648e40-7ee0-46f4-c873-0380e4324f00"
      },
      "execution_count": null,
      "outputs": [
        {
          "output_type": "execute_result",
          "data": {
            "text/plain": [
              "                  Open        High         Low       Close   Adj Close  \\\n",
              "Date                                                                     \n",
              "2023-04-04  287.230011  290.450012  285.670013  287.179993  287.179993   \n",
              "2023-04-05  285.850006  287.149994  282.920013  284.339996  284.339996   \n",
              "2023-04-06  283.209991  292.079987  282.029999  291.600006  291.600006   \n",
              "2023-04-10  289.209991  289.600006  284.709991  289.390015  289.390015   \n",
              "2023-04-11  285.750000  285.980011  281.640015  282.829987  282.829987   \n",
              "\n",
              "              Volume       SMA_5      SMA_20      SMA_60      MACD  \\\n",
              "Date                                                                 \n",
              "2023-04-04  25824300  285.453998  272.290002  257.890668  7.923587   \n",
              "2023-04-05  22064800  286.219995  273.822002  258.844334  7.701957   \n",
              "2023-04-06  29770300  287.729999  275.786002  259.890168  8.019689   \n",
              "2023-04-10  23103000  287.948004  277.826003  260.783835  8.000937   \n",
              "2023-04-11  27254900  287.067999  279.271503  261.522501  7.371759   \n",
              "\n",
              "            MACD_Signal  \n",
              "Date                     \n",
              "2023-04-04     6.731802  \n",
              "2023-04-05     6.925833  \n",
              "2023-04-06     7.144604  \n",
              "2023-04-10     7.315871  \n",
              "2023-04-11     7.327048  "
            ],
            "text/html": [
              "\n",
              "  <div id=\"df-d4cc8e70-26bd-44df-b4f2-f56d2cdcebaa\">\n",
              "    <div class=\"colab-df-container\">\n",
              "      <div>\n",
              "<style scoped>\n",
              "    .dataframe tbody tr th:only-of-type {\n",
              "        vertical-align: middle;\n",
              "    }\n",
              "\n",
              "    .dataframe tbody tr th {\n",
              "        vertical-align: top;\n",
              "    }\n",
              "\n",
              "    .dataframe thead th {\n",
              "        text-align: right;\n",
              "    }\n",
              "</style>\n",
              "<table border=\"1\" class=\"dataframe\">\n",
              "  <thead>\n",
              "    <tr style=\"text-align: right;\">\n",
              "      <th></th>\n",
              "      <th>Open</th>\n",
              "      <th>High</th>\n",
              "      <th>Low</th>\n",
              "      <th>Close</th>\n",
              "      <th>Adj Close</th>\n",
              "      <th>Volume</th>\n",
              "      <th>SMA_5</th>\n",
              "      <th>SMA_20</th>\n",
              "      <th>SMA_60</th>\n",
              "      <th>MACD</th>\n",
              "      <th>MACD_Signal</th>\n",
              "    </tr>\n",
              "    <tr>\n",
              "      <th>Date</th>\n",
              "      <th></th>\n",
              "      <th></th>\n",
              "      <th></th>\n",
              "      <th></th>\n",
              "      <th></th>\n",
              "      <th></th>\n",
              "      <th></th>\n",
              "      <th></th>\n",
              "      <th></th>\n",
              "      <th></th>\n",
              "      <th></th>\n",
              "    </tr>\n",
              "  </thead>\n",
              "  <tbody>\n",
              "    <tr>\n",
              "      <th>2023-04-04</th>\n",
              "      <td>287.230011</td>\n",
              "      <td>290.450012</td>\n",
              "      <td>285.670013</td>\n",
              "      <td>287.179993</td>\n",
              "      <td>287.179993</td>\n",
              "      <td>25824300</td>\n",
              "      <td>285.453998</td>\n",
              "      <td>272.290002</td>\n",
              "      <td>257.890668</td>\n",
              "      <td>7.923587</td>\n",
              "      <td>6.731802</td>\n",
              "    </tr>\n",
              "    <tr>\n",
              "      <th>2023-04-05</th>\n",
              "      <td>285.850006</td>\n",
              "      <td>287.149994</td>\n",
              "      <td>282.920013</td>\n",
              "      <td>284.339996</td>\n",
              "      <td>284.339996</td>\n",
              "      <td>22064800</td>\n",
              "      <td>286.219995</td>\n",
              "      <td>273.822002</td>\n",
              "      <td>258.844334</td>\n",
              "      <td>7.701957</td>\n",
              "      <td>6.925833</td>\n",
              "    </tr>\n",
              "    <tr>\n",
              "      <th>2023-04-06</th>\n",
              "      <td>283.209991</td>\n",
              "      <td>292.079987</td>\n",
              "      <td>282.029999</td>\n",
              "      <td>291.600006</td>\n",
              "      <td>291.600006</td>\n",
              "      <td>29770300</td>\n",
              "      <td>287.729999</td>\n",
              "      <td>275.786002</td>\n",
              "      <td>259.890168</td>\n",
              "      <td>8.019689</td>\n",
              "      <td>7.144604</td>\n",
              "    </tr>\n",
              "    <tr>\n",
              "      <th>2023-04-10</th>\n",
              "      <td>289.209991</td>\n",
              "      <td>289.600006</td>\n",
              "      <td>284.709991</td>\n",
              "      <td>289.390015</td>\n",
              "      <td>289.390015</td>\n",
              "      <td>23103000</td>\n",
              "      <td>287.948004</td>\n",
              "      <td>277.826003</td>\n",
              "      <td>260.783835</td>\n",
              "      <td>8.000937</td>\n",
              "      <td>7.315871</td>\n",
              "    </tr>\n",
              "    <tr>\n",
              "      <th>2023-04-11</th>\n",
              "      <td>285.750000</td>\n",
              "      <td>285.980011</td>\n",
              "      <td>281.640015</td>\n",
              "      <td>282.829987</td>\n",
              "      <td>282.829987</td>\n",
              "      <td>27254900</td>\n",
              "      <td>287.067999</td>\n",
              "      <td>279.271503</td>\n",
              "      <td>261.522501</td>\n",
              "      <td>7.371759</td>\n",
              "      <td>7.327048</td>\n",
              "    </tr>\n",
              "  </tbody>\n",
              "</table>\n",
              "</div>\n",
              "      <button class=\"colab-df-convert\" onclick=\"convertToInteractive('df-d4cc8e70-26bd-44df-b4f2-f56d2cdcebaa')\"\n",
              "              title=\"Convert this dataframe to an interactive table.\"\n",
              "              style=\"display:none;\">\n",
              "        \n",
              "  <svg xmlns=\"http://www.w3.org/2000/svg\" height=\"24px\"viewBox=\"0 0 24 24\"\n",
              "       width=\"24px\">\n",
              "    <path d=\"M0 0h24v24H0V0z\" fill=\"none\"/>\n",
              "    <path d=\"M18.56 5.44l.94 2.06.94-2.06 2.06-.94-2.06-.94-.94-2.06-.94 2.06-2.06.94zm-11 1L8.5 8.5l.94-2.06 2.06-.94-2.06-.94L8.5 2.5l-.94 2.06-2.06.94zm10 10l.94 2.06.94-2.06 2.06-.94-2.06-.94-.94-2.06-.94 2.06-2.06.94z\"/><path d=\"M17.41 7.96l-1.37-1.37c-.4-.4-.92-.59-1.43-.59-.52 0-1.04.2-1.43.59L10.3 9.45l-7.72 7.72c-.78.78-.78 2.05 0 2.83L4 21.41c.39.39.9.59 1.41.59.51 0 1.02-.2 1.41-.59l7.78-7.78 2.81-2.81c.8-.78.8-2.07 0-2.86zM5.41 20L4 18.59l7.72-7.72 1.47 1.35L5.41 20z\"/>\n",
              "  </svg>\n",
              "      </button>\n",
              "      \n",
              "  <style>\n",
              "    .colab-df-container {\n",
              "      display:flex;\n",
              "      flex-wrap:wrap;\n",
              "      gap: 12px;\n",
              "    }\n",
              "\n",
              "    .colab-df-convert {\n",
              "      background-color: #E8F0FE;\n",
              "      border: none;\n",
              "      border-radius: 50%;\n",
              "      cursor: pointer;\n",
              "      display: none;\n",
              "      fill: #1967D2;\n",
              "      height: 32px;\n",
              "      padding: 0 0 0 0;\n",
              "      width: 32px;\n",
              "    }\n",
              "\n",
              "    .colab-df-convert:hover {\n",
              "      background-color: #E2EBFA;\n",
              "      box-shadow: 0px 1px 2px rgba(60, 64, 67, 0.3), 0px 1px 3px 1px rgba(60, 64, 67, 0.15);\n",
              "      fill: #174EA6;\n",
              "    }\n",
              "\n",
              "    [theme=dark] .colab-df-convert {\n",
              "      background-color: #3B4455;\n",
              "      fill: #D2E3FC;\n",
              "    }\n",
              "\n",
              "    [theme=dark] .colab-df-convert:hover {\n",
              "      background-color: #434B5C;\n",
              "      box-shadow: 0px 1px 3px 1px rgba(0, 0, 0, 0.15);\n",
              "      filter: drop-shadow(0px 1px 2px rgba(0, 0, 0, 0.3));\n",
              "      fill: #FFFFFF;\n",
              "    }\n",
              "  </style>\n",
              "\n",
              "      <script>\n",
              "        const buttonEl =\n",
              "          document.querySelector('#df-d4cc8e70-26bd-44df-b4f2-f56d2cdcebaa button.colab-df-convert');\n",
              "        buttonEl.style.display =\n",
              "          google.colab.kernel.accessAllowed ? 'block' : 'none';\n",
              "\n",
              "        async function convertToInteractive(key) {\n",
              "          const element = document.querySelector('#df-d4cc8e70-26bd-44df-b4f2-f56d2cdcebaa');\n",
              "          const dataTable =\n",
              "            await google.colab.kernel.invokeFunction('convertToInteractive',\n",
              "                                                     [key], {});\n",
              "          if (!dataTable) return;\n",
              "\n",
              "          const docLinkHtml = 'Like what you see? Visit the ' +\n",
              "            '<a target=\"_blank\" href=https://colab.research.google.com/notebooks/data_table.ipynb>data table notebook</a>'\n",
              "            + ' to learn more about interactive tables.';\n",
              "          element.innerHTML = '';\n",
              "          dataTable['output_type'] = 'display_data';\n",
              "          await google.colab.output.renderOutput(dataTable, element);\n",
              "          const docLink = document.createElement('div');\n",
              "          docLink.innerHTML = docLinkHtml;\n",
              "          element.appendChild(docLink);\n",
              "        }\n",
              "      </script>\n",
              "    </div>\n",
              "  </div>\n",
              "  "
            ]
          },
          "metadata": {},
          "execution_count": 5
        }
      ]
    },
    {
      "cell_type": "code",
      "source": [
        "data.isna().sum()"
      ],
      "metadata": {
        "colab": {
          "base_uri": "https://localhost:8080/"
        },
        "id": "aZf041C_f8u2",
        "outputId": "9950fc0c-6e48-43b8-d9aa-89f20944b9bd"
      },
      "execution_count": null,
      "outputs": [
        {
          "output_type": "execute_result",
          "data": {
            "text/plain": [
              "Open           0\n",
              "High           0\n",
              "Low            0\n",
              "Close          0\n",
              "Adj Close      0\n",
              "Volume         0\n",
              "SMA_5          0\n",
              "SMA_20         0\n",
              "SMA_60         0\n",
              "MACD           0\n",
              "MACD_Signal    0\n",
              "dtype: int64"
            ]
          },
          "metadata": {},
          "execution_count": 6
        }
      ]
    },
    {
      "cell_type": "code",
      "source": [
        "data.Low.plot(grid=True)"
      ],
      "metadata": {
        "colab": {
          "base_uri": "https://localhost:8080/",
          "height": 725
        },
        "id": "4q318YqFhPoM",
        "outputId": "1a853862-b012-41ea-adc1-b642c4784374"
      },
      "execution_count": null,
      "outputs": [
        {
          "output_type": "execute_result",
          "data": {
            "text/plain": [
              "<Axes: xlabel='Date'>"
            ]
          },
          "metadata": {},
          "execution_count": 7
        },
        {
          "output_type": "display_data",
          "data": {
            "text/plain": [
              "<Figure size 1500x900 with 1 Axes>"
            ],
            "image/png": "[encoded data removed]"
          },
          "metadata": {}
        }
      ]
    },
    {
      "cell_type": "code",
      "source": [
        "import numpy as np\n",
        "import tensorflow as tf\n",
        "from tensorflow.keras.models import Sequential\n",
        "from tensorflow.keras.layers import LSTM, Dense\n",
        "from sklearn.preprocessing import MinMaxScaler\n",
        "from sklearn.metrics import mean_squared_error\n",
        "from sklearn.model_selection import TimeSeriesSplit\n",
        "\n",
        "# 조건 1. 데이터셋을 나누자: train, validation, test set\n",
        "def create_dataset(data, n_past, n_future):\n",
        "    X, y = [], []\n",
        "    for i in range(n_past, len(data) - n_future):\n",
        "        X.append(data[i - n_past:i])\n",
        "        y.append(data[i:i + n_future, 0])\n",
        "    return np.array(X), np.array(y)\n",
        "\n",
        "# 조건 2. 슬라이딩 윈도우\n",
        "n_past = 10\n",
        "n_future = 2\n",
        "\n",
        "# 조건 3. 5행부터 시작\n",
        "data = data[9:].values\n",
        "\n",
        "# 데이터 정규화\n",
        "scaler = MinMaxScaler(feature_range=(0, 1))\n",
        "data = scaler.fit_transform(data)\n",
        "# 데이터셋 생성\n",
        "X, y = create_dataset(data, n_past, n_future)"
      ],
      "metadata": {
        "id": "z0rig_9LCKlH"
      },
      "execution_count": null,
      "outputs": []
    },
    {
      "cell_type": "code",
      "source": [
        "# # 데이터 분할: train, validation, test set\n",
        "# train_ratio = 0.70\n",
        "# val_ratio = 0.15\n",
        "# test_ratio = 0.15\n",
        "\n",
        "# # 인덱스 추적을 위한 데이터\n",
        "# data_with_index = pd.DataFrame(data)\n",
        "\n",
        "# X_train, X_temp, y_train, y_temp = train_test_split(X, y, test_size=(1-train_ratio), shuffle=False)\n",
        "# X_val, X_test, y_val, y_test = train_test_split(X_temp, y_temp, test_size=test_ratio/(test_ratio + val_ratio), shuffle=False)\n",
        "\n",
        "# # 인덱스 추적\n",
        "# train_indices, temp_indices = train_test_split(data_with_index.index, test_size=(1-train_ratio), shuffle=False)\n",
        "# val_indices, test_indices = train_test_split(temp_indices, test_size=test_ratio/(test_ratio + val_ratio), shuffle=False)"
      ],
      "metadata": {
        "colab": {
          "base_uri": "https://localhost:8080/",
          "height": 236
        },
        "id": "Y2curaJegbTW",
        "outputId": "26f7beb7-8b5e-4b7a-b262-ce03d0baf1f8"
      },
      "execution_count": null,
      "outputs": [
        {
          "output_type": "error",
          "ename": "NameError",
          "evalue": "ignored",
          "traceback": [
            "\u001b[0;31m---------------------------------------------------------------------------\u001b[0m",
            "\u001b[0;31mNameError\u001b[0m                                 Traceback (most recent call last)",
            "\u001b[0;32m<ipython-input-9-6643512daa3a>\u001b[0m in \u001b[0;36m<cell line: 9>\u001b[0;34m()\u001b[0m\n\u001b[1;32m      7\u001b[0m \u001b[0mdata_with_index\u001b[0m \u001b[0;34m=\u001b[0m \u001b[0mpd\u001b[0m\u001b[0;34m.\u001b[0m\u001b[0mDataFrame\u001b[0m\u001b[0;34m(\u001b[0m\u001b[0mdata\u001b[0m\u001b[0;34m)\u001b[0m\u001b[0;34m\u001b[0m\u001b[0;34m\u001b[0m\u001b[0m\n\u001b[1;32m      8\u001b[0m \u001b[0;34m\u001b[0m\u001b[0m\n\u001b[0;32m----> 9\u001b[0;31m \u001b[0mX_train\u001b[0m\u001b[0;34m,\u001b[0m \u001b[0mX_temp\u001b[0m\u001b[0;34m,\u001b[0m \u001b[0my_train\u001b[0m\u001b[0;34m,\u001b[0m \u001b[0my_temp\u001b[0m \u001b[0;34m=\u001b[0m \u001b[0mtrain_test_split\u001b[0m\u001b[0;34m(\u001b[0m\u001b[0mX\u001b[0m\u001b[0;34m,\u001b[0m \u001b[0my\u001b[0m\u001b[0;34m,\u001b[0m \u001b[0mtest_size\u001b[0m\u001b[0;34m=\u001b[0m\u001b[0;34m(\u001b[0m\u001b[0;36m1\u001b[0m\u001b[0;34m-\u001b[0m\u001b[0mtrain_ratio\u001b[0m\u001b[0;34m)\u001b[0m\u001b[0;34m,\u001b[0m \u001b[0mshuffle\u001b[0m\u001b[0;34m=\u001b[0m\u001b[0;32mFalse\u001b[0m\u001b[0;34m)\u001b[0m\u001b[0;34m\u001b[0m\u001b[0;34m\u001b[0m\u001b[0m\n\u001b[0m\u001b[1;32m     10\u001b[0m \u001b[0mX_val\u001b[0m\u001b[0;34m,\u001b[0m \u001b[0mX_test\u001b[0m\u001b[0;34m,\u001b[0m \u001b[0my_val\u001b[0m\u001b[0;34m,\u001b[0m \u001b[0my_test\u001b[0m \u001b[0;34m=\u001b[0m \u001b[0mtrain_test_split\u001b[0m\u001b[0;34m(\u001b[0m\u001b[0mX_temp\u001b[0m\u001b[0;34m,\u001b[0m \u001b[0my_temp\u001b[0m\u001b[0;34m,\u001b[0m \u001b[0mtest_size\u001b[0m\u001b[0;34m=\u001b[0m\u001b[0mtest_ratio\u001b[0m\u001b[0;34m/\u001b[0m\u001b[0;34m(\u001b[0m\u001b[0mtest_ratio\u001b[0m \u001b[0;34m+\u001b[0m \u001b[0mval_ratio\u001b[0m\u001b[0;34m)\u001b[0m\u001b[0;34m,\u001b[0m \u001b[0mshuffle\u001b[0m\u001b[0;34m=\u001b[0m\u001b[0;32mFalse\u001b[0m\u001b[0;34m)\u001b[0m\u001b[0;34m\u001b[0m\u001b[0;34m\u001b[0m\u001b[0m\n\u001b[1;32m     11\u001b[0m \u001b[0;34m\u001b[0m\u001b[0m\n",
            "\u001b[0;31mNameError\u001b[0m: name 'train_test_split' is not defined"
          ]
        }
      ]
    },
    {
      "cell_type": "code",
      "source": [
        "from sklearn.model_selection import train_test_split\n",
        "\n",
        "# 데이터 분할: train, validation, test set\n",
        "train_ratio = 0.70\n",
        "val_ratio = 0.15\n",
        "test_ratio = 0.15\n",
        "\n",
        "X_train, X_temp, y_train, y_temp = train_test_split(X, y, test_size=(1-train_ratio), shuffle=False)\n",
        "X_val, X_test, y_val, y_test = train_test_split(X_temp, y_temp, test_size=test_ratio/(test_ratio + val_ratio), shuffle=False)\n",
        "\n",
        "# LSTM 학습\n",
        "model = Sequential()\n",
        "model.add(LSTM(50, input_shape=(X_train.shape[1], X_train.shape[2])))\n",
        "model.add(Dense(n_future))\n",
        "model.compile(optimizer='adam', loss='mse')\n",
        "\n",
        "history = model.fit(X_train, y_train, epochs=50, batch_size=32, validation_data=(X_val, y_val), verbose=2, shuffle=False)\n",
        "\n",
        "# 예측\n",
        "y_pred = model.predict(X_test)\n",
        "\n",
        "# 예측값을 원래 스케일로 변환\n",
        "y_test = np.hstack((y_test, np.zeros((y_test.shape[0], data.shape[1] - y_test.shape[1]))))\n",
        "y_pred = np.hstack((y_pred, np.zeros((y_pred.shape[0], data.shape[1] - y_pred.shape[1]))))\n",
        "\n",
        "y_test = scaler.inverse_transform(y_test)[:, :n_future]\n",
        "y_pred = scaler.inverse_transform(y_pred)[:, :n_future]\n",
        "\n",
        "# 테스트 성능 확인 (MSE)\n",
        "test_performance = mean_squared_error(y_test, y_pred)\n",
        "print(\"Test performance (MSE):\", test_performance)"
      ],
      "metadata": {
        "colab": {
          "base_uri": "https://localhost:8080/"
        },
        "id": "0wJJT33lCfjx",
        "outputId": "95f7784b-23cf-4a35-cd21-cc6bad347c66"
      },
      "execution_count": null,
      "outputs": [
        {
          "output_type": "stream",
          "name": "stdout",
          "text": [
            "Epoch 1/50\n",
            "127/127 - 4s - loss: 1.0249e-04 - val_loss: 0.0055 - 4s/epoch - 28ms/step\n",
            "Epoch 2/50\n",
            "127/127 - 1s - loss: 2.1889e-04 - val_loss: 0.0059 - 1s/epoch - 10ms/step\n",
            "Epoch 3/50\n",
            "127/127 - 1s - loss: 8.9589e-05 - val_loss: 0.0030 - 1s/epoch - 11ms/step\n",
            "Epoch 4/50\n",
            "127/127 - 1s - loss: 4.8322e-05 - val_loss: 0.0015 - 1s/epoch - 8ms/step\n",
            "Epoch 5/50\n",
            "127/127 - 1s - loss: 2.6754e-05 - val_loss: 7.5116e-04 - 843ms/epoch - 7ms/step\n",
            "Epoch 6/50\n",
            "127/127 - 1s - loss: 1.7178e-05 - val_loss: 4.5833e-04 - 839ms/epoch - 7ms/step\n",
            "Epoch 7/50\n",
            "127/127 - 1s - loss: 1.5690e-05 - val_loss: 5.7773e-04 - 825ms/epoch - 6ms/step\n",
            "Epoch 8/50\n",
            "127/127 - 1s - loss: 2.1396e-05 - val_loss: 4.2931e-04 - 819ms/epoch - 6ms/step\n",
            "Epoch 9/50\n",
            "127/127 - 1s - loss: 2.3541e-05 - val_loss: 5.2341e-04 - 826ms/epoch - 7ms/step\n",
            "Epoch 10/50\n",
            "127/127 - 1s - loss: 2.5245e-05 - val_loss: 4.8500e-04 - 812ms/epoch - 6ms/step\n",
            "Epoch 11/50\n",
            "127/127 - 1s - loss: 2.3984e-05 - val_loss: 3.7824e-04 - 858ms/epoch - 7ms/step\n",
            "Epoch 12/50\n",
            "127/127 - 1s - loss: 1.6642e-05 - val_loss: 3.2126e-04 - 800ms/epoch - 6ms/step\n",
            "Epoch 13/50\n",
            "127/127 - 1s - loss: 1.0376e-05 - val_loss: 3.8634e-04 - 811ms/epoch - 6ms/step\n",
            "Epoch 14/50\n",
            "127/127 - 1s - loss: 9.9395e-06 - val_loss: 5.3701e-04 - 808ms/epoch - 6ms/step\n",
            "Epoch 15/50\n",
            "127/127 - 1s - loss: 1.5259e-05 - val_loss: 7.7080e-04 - 912ms/epoch - 7ms/step\n",
            "Epoch 16/50\n",
            "127/127 - 1s - loss: 2.5332e-05 - val_loss: 8.9160e-04 - 1s/epoch - 10ms/step\n",
            "Epoch 17/50\n",
            "127/127 - 1s - loss: 3.1080e-05 - val_loss: 6.7220e-04 - 1s/epoch - 11ms/step\n",
            "Epoch 18/50\n",
            "127/127 - 1s - loss: 2.1502e-05 - val_loss: 3.8718e-04 - 876ms/epoch - 7ms/step\n",
            "Epoch 19/50\n",
            "127/127 - 1s - loss: 1.0417e-05 - val_loss: 2.7247e-04 - 824ms/epoch - 6ms/step\n",
            "Epoch 20/50\n",
            "127/127 - 1s - loss: 7.1993e-06 - val_loss: 2.8212e-04 - 826ms/epoch - 7ms/step\n",
            "Epoch 21/50\n",
            "127/127 - 1s - loss: 8.2341e-06 - val_loss: 3.4331e-04 - 836ms/epoch - 7ms/step\n",
            "Epoch 22/50\n",
            "127/127 - 1s - loss: 1.1289e-05 - val_loss: 4.4134e-04 - 843ms/epoch - 7ms/step\n",
            "Epoch 23/50\n",
            "127/127 - 1s - loss: 1.4962e-05 - val_loss: 5.1557e-04 - 903ms/epoch - 7ms/step\n",
            "Epoch 24/50\n",
            "127/127 - 1s - loss: 1.7002e-05 - val_loss: 4.6067e-04 - 812ms/epoch - 6ms/step\n",
            "Epoch 25/50\n",
            "127/127 - 1s - loss: 1.4101e-05 - val_loss: 3.6244e-04 - 901ms/epoch - 7ms/step\n",
            "Epoch 26/50\n",
            "127/127 - 1s - loss: 9.1674e-06 - val_loss: 3.3355e-04 - 968ms/epoch - 8ms/step\n",
            "Epoch 27/50\n",
            "127/127 - 1s - loss: 8.4147e-06 - val_loss: 3.8370e-04 - 838ms/epoch - 7ms/step\n",
            "Epoch 28/50\n",
            "127/127 - 1s - loss: 1.2067e-05 - val_loss: 5.0375e-04 - 855ms/epoch - 7ms/step\n",
            "Epoch 29/50\n",
            "127/127 - 1s - loss: 1.6947e-05 - val_loss: 6.0489e-04 - 1s/epoch - 9ms/step\n",
            "Epoch 30/50\n",
            "127/127 - 1s - loss: 1.9074e-05 - val_loss: 5.2206e-04 - 1s/epoch - 11ms/step\n",
            "Epoch 31/50\n",
            "127/127 - 1s - loss: 1.5313e-05 - val_loss: 4.1496e-04 - 971ms/epoch - 8ms/step\n",
            "Epoch 32/50\n",
            "127/127 - 1s - loss: 1.1074e-05 - val_loss: 3.5374e-04 - 905ms/epoch - 7ms/step\n",
            "Epoch 33/50\n",
            "127/127 - 1s - loss: 9.7152e-06 - val_loss: 2.9274e-04 - 845ms/epoch - 7ms/step\n",
            "Epoch 34/50\n",
            "127/127 - 1s - loss: 8.7074e-06 - val_loss: 2.3970e-04 - 844ms/epoch - 7ms/step\n",
            "Epoch 35/50\n",
            "127/127 - 1s - loss: 7.2333e-06 - val_loss: 2.1325e-04 - 851ms/epoch - 7ms/step\n",
            "Epoch 36/50\n",
            "127/127 - 1s - loss: 5.7977e-06 - val_loss: 2.1228e-04 - 806ms/epoch - 6ms/step\n",
            "Epoch 37/50\n",
            "127/127 - 1s - loss: 4.8513e-06 - val_loss: 2.2833e-04 - 852ms/epoch - 7ms/step\n",
            "Epoch 38/50\n",
            "127/127 - 1s - loss: 4.5547e-06 - val_loss: 2.5610e-04 - 831ms/epoch - 7ms/step\n",
            "Epoch 39/50\n",
            "127/127 - 1s - loss: 5.0650e-06 - val_loss: 2.9610e-04 - 907ms/epoch - 7ms/step\n",
            "Epoch 40/50\n",
            "127/127 - 1s - loss: 6.7636e-06 - val_loss: 3.6114e-04 - 916ms/epoch - 7ms/step\n",
            "Epoch 41/50\n",
            "127/127 - 1s - loss: 1.0282e-05 - val_loss: 4.8130e-04 - 928ms/epoch - 7ms/step\n",
            "Epoch 42/50\n",
            "127/127 - 1s - loss: 1.5618e-05 - val_loss: 6.0866e-04 - 969ms/epoch - 8ms/step\n",
            "Epoch 43/50\n",
            "127/127 - 1s - loss: 1.9779e-05 - val_loss: 5.3728e-04 - 1s/epoch - 11ms/step\n",
            "Epoch 44/50\n",
            "127/127 - 1s - loss: 1.7051e-05 - val_loss: 2.9881e-04 - 1s/epoch - 10ms/step\n",
            "Epoch 45/50\n",
            "127/127 - 1s - loss: 8.3689e-06 - val_loss: 1.9277e-04 - 955ms/epoch - 8ms/step\n",
            "Epoch 46/50\n",
            "127/127 - 1s - loss: 5.4130e-06 - val_loss: 1.5965e-04 - 860ms/epoch - 7ms/step\n",
            "Epoch 47/50\n",
            "127/127 - 1s - loss: 5.7393e-06 - val_loss: 1.5872e-04 - 902ms/epoch - 7ms/step\n",
            "Epoch 48/50\n",
            "127/127 - 1s - loss: 6.5946e-06 - val_loss: 1.7436e-04 - 814ms/epoch - 6ms/step\n",
            "Epoch 49/50\n",
            "127/127 - 1s - loss: 6.8134e-06 - val_loss: 1.9765e-04 - 822ms/epoch - 6ms/step\n",
            "Epoch 50/50\n",
            "127/127 - 1s - loss: 6.0399e-06 - val_loss: 2.2059e-04 - 793ms/epoch - 6ms/step\n",
            "28/28 [==============================] - 0s 3ms/step\n",
            "Test performance (MSE): 1429.4632693168555\n"
          ]
        }
      ]
    },
    {
      "cell_type": "code",
      "source": [
        "from sklearn.metrics import r2_score\n",
        "# 정확도 검증 (R^2 점수)\n",
        "r2 = r2_score(y_test, y_pred)\n",
        "print(\"R^2 score:\", r2)"
      ],
      "metadata": {
        "colab": {
          "base_uri": "https://localhost:8080/"
        },
        "id": "0Ag1cFZoClXd",
        "outputId": "601d13ee-431f-4f4f-f890-e6d740237b0d"
      },
      "execution_count": null,
      "outputs": [
        {
          "output_type": "stream",
          "name": "stdout",
          "text": [
            "R^2 score: 0.42847320048649035\n"
          ]
        }
      ]
    }
  ]
}